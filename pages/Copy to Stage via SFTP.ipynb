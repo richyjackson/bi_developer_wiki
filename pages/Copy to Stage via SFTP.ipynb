{
 "cells": [
  {
   "cell_type": "markdown",
   "id": "91ef4dd1",
   "metadata": {},
   "source": [
    "## SFTP to Snowflake Stage (Unsupported connections)\n",
    "\n",
    "Procedure available here: https://sfc-gh-dwilczak.github.io/tutorials/snowflake/sftp/\n",
    "\n",
    "Use SYSADMIN unless specified\n",
    "\n",
    "1. Create a Stage to host the files"
   ]
  },
  {
   "cell_type": "code",
   "execution_count": null,
   "id": "97b6ebdf",
   "metadata": {},
   "outputs": [],
   "source": [
    "create stage if not exists files directory = ( enable = true );"
   ]
  },
  {
   "cell_type": "markdown",
   "id": "f98e8b59",
   "metadata": {},
   "source": [
    "2. Create a compute pool to run the Notebook"
   ]
  },
  {
   "cell_type": "code",
   "execution_count": null,
   "id": "97e27c50",
   "metadata": {},
   "outputs": [],
   "source": [
    "create compute pool sftp\n",
    "    min_nodes = 1\n",
    "    max_nodes = 1\n",
    "    instance_family = cpu_x64_xs;"
   ]
  },
  {
   "cell_type": "markdown",
   "id": "83556a09",
   "metadata": {},
   "source": [
    "3. Create a Network Rule to allow connection to your SFTP site and to download Python packages"
   ]
  },
  {
   "cell_type": "code",
   "execution_count": null,
   "id": "f46505d1",
   "metadata": {},
   "outputs": [],
   "source": [
    "create or replace network rule sftp_network_rule\n",
    "    mode = egress\n",
    "    type = host_port\n",
    "    value_list = ('<UPDATE WITH YOUR URL>:22');\n",
    "\n",
    "-- We'll need this to download the sftp python package.\n",
    "create or replace network rule pypi_network_rule\n",
    "    mode = egress\n",
    "    type = host_port\n",
    "    value_list = ('pypi.org', 'pypi.python.org', 'pythonhosted.org',  'files.pythonhosted.org');"
   ]
  },
  {
   "cell_type": "markdown",
   "id": "9679fbc1",
   "metadata": {},
   "source": [
    "4. Create an API integration to allow download of files from your SFTP and to install Python packages"
   ]
  },
  {
   "cell_type": "code",
   "execution_count": null,
   "id": "66899c10",
   "metadata": {},
   "outputs": [],
   "source": [
    "use role accountadmin;\n",
    "\n",
    "create or replace external access integration sftp_external_access\n",
    "    allowed_network_rules = (sftp_network_rule)\n",
    "    enabled = true;\n",
    "\n",
    "create or replace external access integration pypi_access_integration\n",
    "    allowed_network_rules = (pypi_network_rule)\n",
    "    enabled = true;\n",
    "\n",
    "grant usage on integration sftp_external_access to role sysadmin;\n",
    "grant usage on integration pypi_access_integration to role sysadmin;"
   ]
  },
  {
   "cell_type": "markdown",
   "id": "59864f74",
   "metadata": {},
   "source": [
    "5. Create a Notebook using the file or code below run in a container \n",
    "\n",
    "Make sure to enable external access to your APIs"
   ]
  },
  {
   "cell_type": "code",
   "execution_count": null,
   "id": "3775908f-ca36-4846-8f38-5adca39217f2",
   "metadata": {
    "codeCollapsed": true,
    "collapsed": true,
    "language": "python",
    "name": "packages",
    "resultHeight": 111
   },
   "outputs": [],
   "source": [
    "# Import python packages\n",
    "import os\n",
    "import tempfile\n",
    "import zipfile\n",
    "import paramiko\n",
    "\n",
    "from snowflake.snowpark.context import get_active_session\n",
    "session = get_active_session()"
   ]
  },
  {
   "cell_type": "code",
   "execution_count": null,
   "id": "a0bf2fa5-fd11-4ed7-8037-572bd8f8ade2",
   "metadata": {
    "codeCollapsed": true,
    "collapsed": true,
    "language": "python",
    "name": "function",
    "resultHeight": 0
   },
   "outputs": [],
   "source": [
    "import os\n",
    "import tempfile\n",
    "import zipfile\n",
    "import paramiko\n",
    "from snowflake.snowpark import Session\n",
    "\n",
    "def download_and_stage_file_from_sftp(sftp_details, remote_file_path, stage_location, destination=\"/\"):\n",
    "    \"\"\"\n",
    "    Downloads a file from an SFTP server, handles unzipping if necessary, \n",
    "    and uploads all contents to a specified location in a Snowflake stage.\n",
    "\n",
    "    Args:\n",
    "        sftp_details (dict): SFTP connection details including 'hostname', 'port', 'username', 'password'.\n",
    "        remote_file_path (str): Path of the file on the SFTP server.\n",
    "        stage_location (str): The Snowflake stage location where the file(s) will be uploaded.\n",
    "        destination (str): The location within the stage to upload the file(s). Default is root ('/').\n",
    "    \"\"\"\n",
    "    # Normalize destination to avoid double slashes\n",
    "    destination = destination.rstrip(\"/\")\n",
    "    if not destination.startswith(\"/\"):\n",
    "        destination = f\"/{destination}\"\n",
    "\n",
    "    # Temporary file path\n",
    "    temp_file_path = tempfile.NamedTemporaryFile(delete=False).name\n",
    "\n",
    "    try:\n",
    "        # Initialize SFTP connection\n",
    "        client = paramiko.SSHClient()\n",
    "        client.set_missing_host_key_policy(paramiko.AutoAddPolicy())\n",
    "        client.connect(\n",
    "            hostname=sftp_details['hostname'],\n",
    "            port=sftp_details.get('port', 22),\n",
    "            username=sftp_details['username'],\n",
    "            password=sftp_details['password']\n",
    "        )\n",
    "        sftp = client.open_sftp()\n",
    "\n",
    "        # Get the original file name\n",
    "        original_file_name = os.path.basename(remote_file_path)\n",
    "\n",
    "        # Download the remote file to the temporary file\n",
    "        temp_file_download_path = os.path.join(tempfile.gettempdir(), original_file_name)\n",
    "        sftp.get(remote_file_path, temp_file_download_path)\n",
    "        print(f\"Downloaded file from SFTP server saved temporarily as {temp_file_download_path}\")\n",
    "\n",
    "        sftp.close()\n",
    "        client.close()\n",
    "\n",
    "        # Check if the file is a ZIP\n",
    "        if zipfile.is_zipfile(temp_file_download_path):\n",
    "            with zipfile.ZipFile(temp_file_download_path, \"r\") as zip_ref:\n",
    "                with tempfile.TemporaryDirectory() as temp_extract_dir:\n",
    "                    zip_ref.extractall(temp_extract_dir)\n",
    "                    print(f\"Files extracted to temporary directory {temp_extract_dir}\")\n",
    "\n",
    "                    # Upload all extracted files to the Snowflake stage at the specified destination\n",
    "                    session = get_active_session()\n",
    "                    for file_name in os.listdir(temp_extract_dir):\n",
    "                        file_path = os.path.join(temp_extract_dir, file_name)\n",
    "                        upload_path = f\"@{stage_location}{destination}/{file_name}\"\n",
    "                        session.file.put(f\"file://{file_path}\", upload_path, auto_compress=False)\n",
    "                        print(f\"Uploaded {file_name} to stage {upload_path}\")\n",
    "        else:\n",
    "            # If not a ZIP, upload the single file directly\n",
    "            session = get_active_session()\n",
    "            upload_path = f\"@{stage_location}{destination}\"\n",
    "            session.file.put(f\"file://{temp_file_download_path}\", upload_path, auto_compress=False)\n",
    "            print(f\"Uploaded file {original_file_name} to stage {upload_path}\")\n",
    "\n",
    "    except Exception as e:\n",
    "        print(f\"Error during SFTP download or file processing: {e}\")\n",
    "    finally:\n",
    "        # Clean up the temporary file\n",
    "        if os.path.exists(temp_file_download_path):\n",
    "            os.remove(temp_file_download_path)\n",
    "            print(f\"Deleted temporary file {temp_file_download_path}\")\n"
   ]
  },
  {
   "cell_type": "code",
   "execution_count": null,
   "id": "a01f6830-f97d-4c67-a2b1-e8bcaa7e8406",
   "metadata": {
    "codeCollapsed": false,
    "collapsed": false,
    "language": "python",
    "name": "download_file",
    "resultHeight": 83
   },
   "outputs": [],
   "source": [
    "sftp_details = {\n",
    "    'hostname': '...',\n",
    "    'port': 22,\n",
    "    'username': '...',\n",
    "    'password': '...'\n",
    "}\n",
    "# Location of file on SFTP.\n",
    "remote_file_path = \"directory/file.csv\"\n",
    "# Snowflake Stage location (Database.Schema.Stage).\n",
    "stage_location = \"RAW.SFTP.FILES\"\n",
    "# This is where the file will land in the Snowflake stage.\n",
    "destination = \"/\"\n",
    "\n",
    "download_and_stage_file_from_sftp(sftp_details, remote_file_path, stage_location, destination)"
   ]
  },
  {
   "cell_type": "code",
   "execution_count": null,
   "id": "9b674967-8290-48e7-ba42-b6825b57f789",
   "metadata": {
    "codeCollapsed": false,
    "collapsed": false,
    "language": "sql",
    "name": "result",
    "resultHeight": 112
   },
   "outputs": [],
   "source": [
    "ls @RAW.SFTP.FILES"
   ]
  }
 ],
 "metadata": {
  "kernelspec": {
   "display_name": "Streamlit Notebook",
   "name": "streamlit"
  }
 },
 "nbformat": 4,
 "nbformat_minor": 5
}
