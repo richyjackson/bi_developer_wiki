{
 "cells": [
  {
   "cell_type": "markdown",
   "metadata": {},
   "source": [
    "## COPY INTO\n",
    "\n",
    "Code can be used to the select the stage, the file stored in the stage and the file format to move data to the table required"
   ]
  },
  {
   "cell_type": "code",
   "execution_count": null,
   "metadata": {
    "vscode": {
     "languageId": "plaintext"
    }
   },
   "outputs": [],
   "source": [
    "copy into INTL_DB.PUBLIC.COUNTRY_CODE_TO_CURRENCY_CODE \n",
    "from @util_db.public.aws_s3_bucket\n",
    "files = ( 'country_code_to_currency_code.csv')\n",
    "file_format = ( format_name='UTIL_DB.PUBLIC.CSV_COMMA_LF_HEADER' );\n",
    "\n",
    "\n",
    "copy into ags_game_audience.raw.game_logs -- Here the file name was not specified which would load all files in the stage\n",
    "from @uni_kishore/kickoff\n",
    "file_format = (format_name = FF_JSON_LOGS)\n"
   ]
  },
  {
   "cell_type": "markdown",
   "metadata": {},
   "source": [
    "The COPY INTO command will only import a file once, regardless of how many times it is called"
   ]
  },
  {
   "cell_type": "markdown",
   "metadata": {},
   "source": [
    "Additional settings are:"
   ]
  },
  {
   "cell_type": "code",
   "execution_count": null,
   "metadata": {
    "vscode": {
     "languageId": "plaintext"
    }
   },
   "outputs": [],
   "source": [
    "match_by_column_name='CASE_INSENSITIVE'; -- Attempts to match the column names"
   ]
  }
 ],
 "metadata": {
  "language_info": {
   "name": "python"
  }
 },
 "nbformat": 4,
 "nbformat_minor": 2
}
