{
 "cells": [
  {
   "cell_type": "markdown",
   "metadata": {},
   "source": [
    "## Masking\n",
    "Snowflake supports both column level masking and row level masking\n",
    "\n",
    "Column level masking rules are created once and can be applied to multiple columns when defining a table"
   ]
  },
  {
   "cell_type": "markdown",
   "metadata": {},
   "source": [
    "##### Column Level Masking"
   ]
  },
  {
   "cell_type": "markdown",
   "metadata": {},
   "source": [
    "**Create a general masking policy**\n",
    "\n",
    "ISIN value has last 4 characters replaced by XXXX"
   ]
  },
  {
   "cell_type": "code",
   "execution_count": null,
   "metadata": {
    "vscode": {
     "languageId": "plaintext"
    }
   },
   "outputs": [],
   "source": [
    "CREATE OR REPLACE MASKING POLICY MASK_ISIN_ANALYTICS\n",
    "AS (ISIN VARCHAR) \n",
    "RETURNS VARCHAR ->\n",
    "CASE\n",
    "    WHEN CURRENT_ROLE() = 'DEV_ANALYST' \n",
    "    THEN 'XXXX' || RIGHT(ISIN, 4) -- Mask all except last 4 characters\n",
    "    ELSE ISIN -- Show full ISIN for other roles\n",
    "END;"
   ]
  },
  {
   "cell_type": "markdown",
   "metadata": {},
   "source": [
    "**Apply the masking policy to the desired column**"
   ]
  },
  {
   "cell_type": "code",
   "execution_count": null,
   "metadata": {
    "vscode": {
     "languageId": "plaintext"
    }
   },
   "outputs": [],
   "source": [
    "ALTER TABLE DEV_ANCHOR_DB.IRN_ANALYTICS.RECOMMENDATION\n",
    "MODIFY COLUMN ISIN SET MASKING POLICY MASK_ISIN_ANALYTICS;"
   ]
  },
  {
   "cell_type": "markdown",
   "metadata": {},
   "source": [
    "Streams will become stale if they are not used within the retention period"
   ]
  },
  {
   "cell_type": "markdown",
   "metadata": {},
   "source": [
    "##### Row Level Masking"
   ]
  },
  {
   "cell_type": "markdown",
   "metadata": {},
   "source": [
    "##### Query Masking Policies"
   ]
  },
  {
   "cell_type": "code",
   "execution_count": null,
   "metadata": {
    "vscode": {
     "languageId": "plaintext"
    }
   },
   "outputs": [],
   "source": [
    "-- List out the polices and their names\n",
    "\n",
    "SHOW MASKING POLICIES IN SCHEMA DEV_ANCHOR_DB.IRN_ANALYTICS;\n",
    "SHOW MASKING POLICIES DEV_ANCHOR_DB.IRN_ANALYTICS;\n",
    "\n",
    "-- View the code behind the masking policies\n",
    "\n",
    "SELECT * FROM SNOWFLAKE.ACCOUNT_USEAGE.MASKING_POLICIES"
   ]
  }
 ],
 "metadata": {
  "language_info": {
   "name": "python"
  }
 },
 "nbformat": 4,
 "nbformat_minor": 2
}
