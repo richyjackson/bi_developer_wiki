{
 "cells": [
  {
   "cell_type": "markdown",
   "metadata": {},
   "source": [
    "## Functions\n",
    "The JSON library is only supported in Python 3.8"
   ]
  },
  {
   "cell_type": "code",
   "execution_count": null,
   "metadata": {
    "vscode": {
     "languageId": "plaintext"
    }
   },
   "outputs": [],
   "source": [
    "CREATE OR REPLACE FUNCTION GET_FILE_COUNT_FOR_DATE(\"FILE_DATE\" VARCHAR)\n",
    "RETURNS VARCHAR\n",
    "LANGUAGE PYTHON\n",
    "RUNTIME_VERSION = '3.8'\n",
    "PACKAGES = ('requests', 'snowflake-snowpark-python', 'pandas')\n",
    "HANDLER = 'fird_api_data'\n",
    "EXTERNAL_ACCESS_INTEGRATIONS = (FIRD_ACCESS_INTEGRATION)"
   ]
  },
  {
   "cell_type": "markdown",
   "metadata": {},
   "source": [
    "When using input variable, they must be declared within the function declaration"
   ]
  },
  {
   "cell_type": "code",
   "execution_count": null,
   "metadata": {
    "vscode": {
     "languageId": "plaintext"
    }
   },
   "outputs": [],
   "source": [
    "CREATE OR REPLACE FUNCTION GET_FILE_COUNT_FOR_DATE(\"FILE_DATE\" VARCHAR)\n",
    "RETURNS VARCHAR\n",
    "LANGUAGE PYTHON\n",
    "RUNTIME_VERSION = '3.8'\n",
    "PACKAGES = ('requests', 'snowflake-snowpark-python', 'pandas')\n",
    "HANDLER = 'fird_api_data'\n",
    "EXTERNAL_ACCESS_INTEGRATIONS = (FIRD_ACCESS_INTEGRATION)\n",
    "AS '\n",
    "\n",
    "import requests\n",
    "session = requests.Session()\n",
    "import snowflake.connector\n",
    "import pandas as pd\n",
    "import json\n",
    "\n",
    "def fird_api_data(FILE_DATE):"
   ]
  }
 ],
 "metadata": {
  "language_info": {
   "name": "python"
  }
 },
 "nbformat": 4,
 "nbformat_minor": 2
}
