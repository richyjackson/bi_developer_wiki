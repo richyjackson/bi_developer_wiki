{
 "cells": [
  {
   "cell_type": "markdown",
   "metadata": {},
   "source": [
    "## Masking\n",
    "Snowflake supports both column level masking and row level masking\n",
    "\n",
    "Column level masking rules are created once and can be applied to multiple columns when defining a table"
   ]
  },
  {
   "cell_type": "markdown",
   "metadata": {},
   "source": [
    "##### Column Level Masking"
   ]
  },
  {
   "cell_type": "markdown",
   "metadata": {},
   "source": [
    "**Create a general masking policy**\n",
    "\n",
    "ISIN value has last 4 characters replaced by XXXX"
   ]
  },
  {
   "cell_type": "code",
   "execution_count": null,
   "metadata": {
    "vscode": {
     "languageId": "plaintext"
    }
   },
   "outputs": [],
   "source": [
    "CREATE OR REPLACE MASKING POLICY MASK_ISIN_ANALYTICS\n",
    "AS (ISIN VARCHAR) \n",
    "RETURNS VARCHAR ->\n",
    "CASE\n",
    "    WHEN CURRENT_ROLE() = 'DEV_ANALYST' \n",
    "    THEN 'XXXX' || RIGHT(ISIN, 4) -- Mask all except last 4 characters\n",
    "    ELSE ISIN -- Show full ISIN for other roles\n",
    "END;"
   ]
  },
  {
   "cell_type": "markdown",
   "metadata": {},
   "source": [
    "**Apply the masking policy a columm in a table**"
   ]
  },
  {
   "cell_type": "code",
   "execution_count": null,
   "metadata": {
    "vscode": {
     "languageId": "plaintext"
    }
   },
   "outputs": [],
   "source": [
    "ALTER TABLE DEV_ANCHOR_DB.IRN_ANALYTICS.RECOMMENDATION\n",
    "MODIFY COLUMN ISIN SET MASKING POLICY MASK_ISIN_ANALYTICS;"
   ]
  },
  {
   "cell_type": "markdown",
   "metadata": {},
   "source": [
    "**Apply masking policy to a view**"
   ]
  },
  {
   "cell_type": "code",
   "execution_count": null,
   "metadata": {
    "vscode": {
     "languageId": "plaintext"
    }
   },
   "outputs": [],
   "source": [
    "create or replace view DEV_POC.WEATHER.STAGING_TBL_MASKING(\n",
    "\tPOSTAL_CODE WITH MASKING POLICY DEV_POC.WEATHER.MASK_POSTAL_CODE,\n",
    "\tCOUNTRY,\n",
    "\tDATE_VALID_STD,\n",
    "\tMAX_WIND_SPEED_80M_MPS\n",
    ") as \n",
    "\n",
    "    SELECT\n",
    "    \tPOSTAL_CODE,\n",
    "    \tCOUNTRY,\n",
    "    \tDATE_VALID_STD,\n",
    "    \tMAX_WIND_SPEED_80M_MPS\n",
    "    FROM\n",
    "        STAGING_TBL;\n",
    "\n",
    "-- Add after creation\n",
    "\n",
    "ALTER VIEW STAGING_TBL_MASKING MODIFY COLUMN POSTAL_CODE SET MASKING POLICY MASK_POSTAL_CODE"
   ]
  },
  {
   "cell_type": "markdown",
   "metadata": {},
   "source": [
    "**Drop a masking policy**"
   ]
  },
  {
   "cell_type": "code",
   "execution_count": null,
   "metadata": {
    "vscode": {
     "languageId": "plaintext"
    }
   },
   "outputs": [],
   "source": [
    "DROP MASKING POLICY MASK_POSTAL_CODE"
   ]
  },
  {
   "cell_type": "markdown",
   "metadata": {},
   "source": [
    "##### Query Masking Policies"
   ]
  },
  {
   "cell_type": "code",
   "execution_count": null,
   "metadata": {
    "vscode": {
     "languageId": "plaintext"
    }
   },
   "outputs": [],
   "source": [
    "-- List out the polices and their names\n",
    "\n",
    "SHOW MASKING POLICIES IN SCHEMA IRN_ANALYTICS;\n",
    "SHOW MASKING POLICIES IN DEV_ANCHOR_DB.IRN_ANALYTICS;\n",
    "\n",
    "-- View the code behind the masking policies\n",
    "\n",
    "SELECT * FROM SNOWFLAKE.ACCOUNT_USEAGE.MASKING_POLICIES\n",
    "\n",
    "-- See the code behind a policy (can only be called via the name)\n",
    "\n",
    "DESC MASKING POLICY MASK_ISIN_ANALYTICS"
   ]
  },
  {
   "cell_type": "markdown",
   "metadata": {},
   "source": [
    "##### Row Level Masking\n",
    "**Create the row level masking policy**"
   ]
  },
  {
   "cell_type": "code",
   "execution_count": null,
   "metadata": {
    "vscode": {
     "languageId": "plaintext"
    }
   },
   "outputs": [],
   "source": [
    "CREATE OR REPLACE ROW ACCESS POLICY RECENT_DATES \n",
    "    AS (var DATE) RETURNS BOOLEAN ->\n",
    "\n",
    "    CASE\n",
    "        WHEN 'DEV_ANALYST' = CURRENT_ROLE() AND var > '01-MAR-2025' THEN TRUE\n",
    "        WHEN 'SYSADMIN' = CURRENT_ROLE() THEN TRUE\n",
    "        ELSE FALSE -- If you want all other roles to see data by default set to True\n",
    "    END;"
   ]
  },
  {
   "cell_type": "markdown",
   "metadata": {},
   "source": [
    "**Apply the policy to a table or view**"
   ]
  },
  {
   "cell_type": "code",
   "execution_count": null,
   "metadata": {
    "vscode": {
     "languageId": "plaintext"
    }
   },
   "outputs": [],
   "source": [
    "CREATE TABLE sales (\n",
    "  customer   varchar,\n",
    "  product    varchar,\n",
    "  spend      decimal(20, 2),\n",
    "  sale_date  date,\n",
    "  region     varchar\n",
    ")\n",
    "WITH ROW ACCESS POLICY sales_policy ON (region);\n",
    "\n",
    "-- Add to a View\n",
    "\n",
    "ALTER VIEW STAGING_TBL_MASKING ADD ROW ACCESS POLICY RECENT_DATES ON (DATE_VALID_STD);"
   ]
  },
  {
   "cell_type": "markdown",
   "metadata": {},
   "source": [
    "**Remove a Row Access Policy**\n",
    "<br><br>To remove a policy entirely you must remove all dependancies"
   ]
  },
  {
   "cell_type": "code",
   "execution_count": null,
   "metadata": {
    "vscode": {
     "languageId": "plaintext"
    }
   },
   "outputs": [],
   "source": [
    "-- Removing the dependancy\n",
    "\n",
    "ALTER VIEW STAGING_TBL_MASKING DROP ROW ACCESS POLICY RECENT_DATES\n",
    "\n",
    "-- Removing the POLICY\n",
    "\n",
    "DROP ROW ACCESS POLICY RECENT_DATES"
   ]
  }
 ],
 "metadata": {
  "language_info": {
   "name": "python"
  }
 },
 "nbformat": 4,
 "nbformat_minor": 2
}
