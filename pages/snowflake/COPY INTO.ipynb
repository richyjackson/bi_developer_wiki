{
 "cells": [
  {
   "cell_type": "markdown",
   "metadata": {},
   "source": [
    "## COPY INTO\n",
    "\n",
    "Code can be used to the select the stage, the file stored in the stage and the file format to move data to the table required\n",
    "\n",
    "### NB: => is used in the lower examples, maybe that will fix the issue"
   ]
  },
  {
   "cell_type": "code",
   "execution_count": null,
   "metadata": {
    "vscode": {
     "languageId": "plaintext"
    }
   },
   "outputs": [],
   "source": [
    "-- These code blocks error for some unknown reason. This is the standard in courseware\n",
    "\n",
    "copy into INTL_DB.PUBLIC.COUNTRY_CODE_TO_CURRENCY_CODE \n",
    "from @util_db.public.aws_s3_bucket\n",
    "files = ( 'country_code_to_currency_code.csv')\n",
    "file_format = ( format_name='UTIL_DB.PUBLIC.CSV_COMMA_LF_HEADER' );\n",
    "\n",
    "\n",
    "copy into ags_game_audience.raw.game_logs -- Here the file name was not specified which would load all files in the stage\n",
    "from @uni_kishore/kickoff\n",
    "file_format = (format_name = FF_JSON_LOGS)\n",
    "\n",
    "COPY INTO IRN_RAW.AUTHORS FROM (\n",
    "            SELECT PARSE_JSON($1) AS data, METADATA$FILENAME AS file_name, CURRENT_TIMESTAMP() AS event_time \n",
    "            FROM @DEV_ANCHOR_DB.IRN_RAW.FACTSET_API_STG/AUTHOR\n",
    "        ) FILE_FORMAT = (TYPE = ''JSON'') PATTERN = ''.*.json'';\n",
    "\n",
    "\n",
    "-- These code blocks will work\n",
    "\n",
    "INSERT INTO hierarchy_team (team) SELECT $1 FROM @HIERARCHY/Teams.csv WHERE $1 <> 'team';\n",
    "\n",
    "SELECT $1, $2\n",
    "FROM @smoothies.public.my_uploaded_files/fruits.txt\n",
    "(file_format => smoothies.public.two_headerrow_pct_delim);"
   ]
  },
  {
   "cell_type": "markdown",
   "metadata": {},
   "source": [
    "The COPY INTO command will only import a file once, regardless of how many times it is called"
   ]
  },
  {
   "cell_type": "markdown",
   "metadata": {},
   "source": [
    "Additional settings are:"
   ]
  },
  {
   "cell_type": "code",
   "execution_count": null,
   "metadata": {
    "vscode": {
     "languageId": "plaintext"
    }
   },
   "outputs": [],
   "source": [
    "match_by_column_name='CASE_INSENSITIVE'; -- Attempts to match the column names"
   ]
  }
 ],
 "metadata": {
  "language_info": {
   "name": "python"
  }
 },
 "nbformat": 4,
 "nbformat_minor": 2
}
