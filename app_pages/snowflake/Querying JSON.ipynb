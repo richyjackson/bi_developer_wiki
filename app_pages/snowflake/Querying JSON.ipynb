{
 "cells": [
  {
   "cell_type": "markdown",
   "metadata": {},
   "source": [
    "## Querying JSON"
   ]
  },
  {
   "cell_type": "markdown",
   "metadata": {},
   "source": [
    "  {\n",
    "    \"identifierType\": \"FactSet Entity\",\n",
    "    \"instrumentMetadata\": {\n",
    "      \"name\": \"Close Brothers Group plc\",\n",
    "      \"entityId\": \"05H7JB-E\",\n",
    "      \"ticker\": \"CBG-GB\",\n",
    "      \"sedol\": \"0766807\",\n",
    "      \"cusip\": \"G22120102\",\n",
    "      \"isin\": \"GB0007668071\"\n",
    "    },\n",
    "    \"customSymbolDetails\": null,\n",
    "    \"query\": \"CBG-GB\"\n",
    "  }"
   ]
  },
  {
   "cell_type": "code",
   "execution_count": null,
   "metadata": {
    "vscode": {
     "languageId": "plaintext"
    }
   },
   "outputs": [],
   "source": [
    "\n",
    "SELECT \n",
    "    f.value:query::VARCHAR AS id, \n",
    "    f.value:instrumentMetadata.cusip::VARCHAR AS cusip,\n",
    "    f.value:instrumentMetadata.entityId::VARCHAR AS entity_Id,\n",
    "    f.value:instrumentMetadata.isin::VARCHAR AS isin,\n",
    "    f.value:instrumentMetadata.name::VARCHAR AS name,\n",
    "    f.value:instrumentMetadata.sedol::VARCHAR AS sedol,\n",
    "    f.value:instrumentMetadata.ticker::VARCHAR AS ticker,\n",
    "    ''BATCH_LOAD'' AS update_user\n",
    "FROM IRN_RAW.IDENTIFIERS_STREAM IDENTIFIER, \n",
    "    LATERAL FLATTEN(INPUT => IDENTIFIER.data) f"
   ]
  }
 ],
 "metadata": {
  "language_info": {
   "name": "python"
  }
 },
 "nbformat": 4,
 "nbformat_minor": 2
}
