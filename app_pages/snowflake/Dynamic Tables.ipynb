{
 "cells": [
  {
   "cell_type": "markdown",
   "metadata": {},
   "source": [
    "## Dynamic Tables\n",
    "* Dynamic tables automatic check for data changes to underlying tables, populating data as required\n",
    "* They can be a compositon of multiple tables\n",
    "* They wont work against Shared View Objects as you require permission to the underlying tables\n",
    "* If the underlying tables is dropped and recreated, the refresh will fail and you will need to recreate the dynamic  tables"
   ]
  },
  {
   "cell_type": "code",
   "execution_count": null,
   "metadata": {
    "vscode": {
     "languageId": "plaintext"
    }
   },
   "outputs": [],
   "source": [
    "CREATE OR REPLACE DYNAMIC TABLE ANALYSIS_DTBL\n",
    "    TARGET_LAG = '1 minute'\n",
    "    REFRESH_MODE = INCREMENTAL\n",
    "    INITIALIZE = ON_CREATE\n",
    "    WAREHOUSE = DEV_BI_WH_XS\n",
    "    AS\n",
    "    SELECT * FROM STAGING_TBL;"
   ]
  },
  {
   "cell_type": "markdown",
   "metadata": {},
   "source": [
    "##### Refresh Mode\n",
    "* Incremental Mode - This only makes changes to values which have changed in the underlying data\n",
    "* Full Refresh - The entire dataset is truncated and replaced\n",
    "<br><br> Compute is only used when there has been a change to the underlying tables. Snowflake can identify this without having to query the data"
   ]
  }
 ],
 "metadata": {
  "language_info": {
   "name": "python"
  }
 },
 "nbformat": 4,
 "nbformat_minor": 2
}
