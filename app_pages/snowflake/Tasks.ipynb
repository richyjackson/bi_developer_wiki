{
 "cells": [
  {
   "cell_type": "markdown",
   "metadata": {},
   "source": [
    "## Tasks\n"
   ]
  },
  {
   "cell_type": "markdown",
   "metadata": {},
   "source": [
    "##### Creating a Task"
   ]
  },
  {
   "cell_type": "code",
   "execution_count": null,
   "metadata": {
    "vscode": {
     "languageId": "plaintext"
    }
   },
   "outputs": [],
   "source": [
    "create or replace task DEV_ANCHOR_DB.IRN_STAGING.IDENTIFIERS_FULL_LOAD_TASK\n",
    "\twarehouse=DEV_BI_WH_XS\n",
    "\tschedule='USING CRON 1 0 * * * UTC'\n",
    "\tas CALL DEV_ANCHOR_DB.IRN_STAGING.IDENTIFIERS_FULL_LOAD_V2();"
   ]
  },
  {
   "cell_type": "markdown",
   "metadata": {},
   "source": [
    "##### Using Cron\n",
    "\n",
    "Use to schedule tasks periodically\n",
    "\n",
    "For a list of time zones, see the list of tz database time zones (in Wikipedia)."
   ]
  },
  {
   "cell_type": "code",
   "execution_count": null,
   "metadata": {
    "vscode": {
     "languageId": "plaintext"
    }
   },
   "outputs": [],
   "source": [
    "The cron expression consists of the following fields:\n",
    "\n",
    "# __________ minute (0-59)\n",
    "# | ________ hour (0-23)\n",
    "# | | ______ day of month (1-31, or L)\n",
    "# | | | ____ month (1-12, JAN-DEC)\n",
    "# | | | | _  day of week (0-6, SUN-SAT, or L)\n",
    "# | | | | |\n",
    "# | | | | |\n",
    "  * * * * *"
   ]
  }
 ],
 "metadata": {
  "language_info": {
   "name": "python"
  }
 },
 "nbformat": 4,
 "nbformat_minor": 2
}
