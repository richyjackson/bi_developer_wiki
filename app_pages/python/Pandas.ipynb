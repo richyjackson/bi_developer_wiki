{
 "cells": [
  {
   "cell_type": "markdown",
   "metadata": {},
   "source": [
    "## Pandas Dataframes\n",
    "https://www.youtube.com/watch?v=DkjCaAMBGWM&t=623s\n",
    "##### Reading and Writing Data"
   ]
  },
  {
   "cell_type": "code",
   "execution_count": null,
   "metadata": {
    "vscode": {
     "languageId": "plaintext"
    }
   },
   "outputs": [],
   "source": [
    "-- Reading data\n",
    "\n",
    "pd.read_csv() -- configure the options to match the csv style\n",
    "\n",
    "-- Writing data\n",
    "\n",
    "df.to_csv('flights.csv') -- set index=False to hide the row number being output"
   ]
  },
  {
   "cell_type": "markdown",
   "metadata": {},
   "source": [
    "##### Data Frame Meta Data"
   ]
  },
  {
   "cell_type": "code",
   "execution_count": null,
   "metadata": {
    "vscode": {
     "languageId": "plaintext"
    }
   },
   "outputs": [],
   "source": [
    "df.head()               # See the first 5 rows of data\n",
    "\n",
    "pd.set_option('display.max_columns', 500) # If you do not see all cols then use before calling the statement\n",
    "\n",
    "df.tail()               # See the last 5 rows\n",
    "\n",
    "df.sample(5)            # See a random sample\n",
    "\n",
    "df.sample(frac=0.1, random_state_529)   # See a random sample as a fraction\n",
    "\n",
    "df.columns              # See a list of all columns in your data frame\n",
    "\n",
    "df.index                # See index values\n",
    "\n",
    "df.info()               # See info about the data frame such as columns, indexes and data types\n",
    "\n",
    "df.describe()           # See descriptive statitistics such as count, mean, min of all columns\n",
    "\n",
    "df.[['Airline']].describe() # Show info against a set column\n",
    "\n",
    "df.shape                # Provides the total rows and columns\n",
    "\n",
    "len(df)                 # To specifically see the number of rows"
   ]
  },
  {
   "cell_type": "markdown",
   "metadata": {},
   "source": [
    "##### Querying the Data Frame"
   ]
  },
  {
   "cell_type": "code",
   "execution_count": null,
   "metadata": {
    "vscode": {
     "languageId": "plaintext"
    }
   },
   "outputs": [],
   "source": [
    "df[['FlightDate', 'Airline', 'Origin']] # Supplies data for columns required. Double square brackets create the dataset as a new data frame\n",
    "\n",
    "df[df.columns[:5]]          # Provides a slice of the first 5 columns\n",
    "\n",
    "df[df.columns[:-5]]         # Provides the last 5 columns\n",
    "\n",
    "df.select_dtypes('int')     # Provide all coilumns of type integer\n",
    "\n",
    "df[['Airline']]             # If you do not add double square brackets the index number is supplied in the data frame"
   ]
  },
  {
   "cell_type": "markdown",
   "metadata": {},
   "source": [
    "##### Filtering Rows by row or column information\n",
    "Uses iloc (filtering by index) and loc (filtering by name)"
   ]
  },
  {
   "cell_type": "code",
   "execution_count": null,
   "metadata": {
    "vscode": {
     "languageId": "plaintext"
    }
   },
   "outputs": [],
   "source": [
    "df.iloc[1, 3]               # Retrieves the cell for row 1 and column 3\n",
    "\n",
    "df.iloc[:5, :5]             # A slice retrieving the first 5 rows and columns\n",
    "\n",
    "df.iloc[5]                  # Supply all data for row 5\n",
    "\n",
    "df.iloc[:, 5]               # Supply all rows for column 5\n",
    "\n",
    "df.loc[:, ['Airline', 'Origin']]    # Provides the named columns and all rows"
   ]
  },
  {
   "cell_type": "markdown",
   "metadata": {},
   "source": [
    "##### Filtering Rows by Values"
   ]
  },
  {
   "cell_type": "code",
   "execution_count": null,
   "metadata": {
    "vscode": {
     "languageId": "plaintext"
    }
   },
   "outputs": [],
   "source": [
    "df['Airline'] == 'Spirit Air Lines' # Provides a boolean true or false for all rows whether the criteria is met\n",
    "\n",
    "df.loc[df['Airline'] == 'Spirit Air Lines'] # Filters data to when this expression is true\n",
    "\n",
    "df.loc[(df['Airline'] == 'Spirit Air Lines']\n",
    "    & (df['FlightDate'] == '2021-09-09'])]      # Multiple filters using AND\n",
    "\n",
    "df.loc[(df['Airline'] == 'Spirit Air Lines']\n",
    "    || (df['FlightDate'] == '2021-09-09'])]     # Multiple filters using OR\n",
    "\n",
    "df.loc[~((df['Airline'] == 'Spirit Air Lines']  # Multiple filters the INVERSE of the condition\n",
    "    & (df['FlightDate'] == '2021-09-09']))] \n",
    "\n",
    "df.query('(DepTime > 1130) AND (Origin == \"DRO\")')  # Uses the query method in a string literal\n",
    "\n",
    "df.query('(DepTime > @min_time) AND (Origin == \"DRO\")')  # Query method parsing a variable"
   ]
  },
  {
   "cell_type": "markdown",
   "metadata": {},
   "source": [
    "##### Summarising Data"
   ]
  },
  {
   "cell_type": "code",
   "execution_count": null,
   "metadata": {
    "vscode": {
     "languageId": "plaintext"
    }
   },
   "outputs": [],
   "source": [
    "df['DepTime'].mean()\n",
    "df['DepTime'].min()\n",
    "df['DepTime'].max()\n",
    "df['DepTime'].std()\n",
    "df['DepTime'].var()\n",
    "df['DepTime'].count()\n",
    "df['DepTime'].sum()\n",
    "df['DepTime'].quantile(0.5)\n",
    "df['DepTime'].quantile([0.25, 0.75])\n",
    "\n",
    "df[['DepTime', 'DepDelay', 'ArrTime']].mean()   # Queries can be run against multiple columns\n",
    "\n",
    "df[['DepTime', 'DepDelay', 'ArrTime']].agg(['mean', 'min', 'max'])  # Allows you to query against multiple aggregations\n",
    "\n",
    "df['Airline'].unique()          # Supplies all unique values in the columns\n",
    "\n",
    "df['Airline'].nunique()         # Returns the number of unique values\n",
    "\n",
    "df['Airline'].value_counts()    # Aggregates and counts the number of all individual values in the column\n",
    "\n",
    "df[[]'Airline', 'Origin']].value_counts()   # Provides count of column combinations\n",
    "\n",
    "df[[]'Airline', 'Origin']].value_counts().reset_index   # Provides data frame with an index number for each combinations"
   ]
  },
  {
   "cell_type": "markdown",
   "metadata": {},
   "source": [
    "##### Ranking, Rolling and Cumulative Summing"
   ]
  }
 ],
 "metadata": {
  "language_info": {
   "name": "python"
  }
 },
 "nbformat": 4,
 "nbformat_minor": 2
}
