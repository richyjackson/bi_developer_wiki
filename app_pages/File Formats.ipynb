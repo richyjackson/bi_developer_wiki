{
 "cells": [
  {
   "cell_type": "markdown",
   "metadata": {},
   "source": [
    "#### File Formats\n",
    "\n",
    "File Formats are functions which convert files into the format required for loading data. Such as a CSV file which is pipe delimited"
   ]
  },
  {
   "cell_type": "code",
   "execution_count": null,
   "metadata": {
    "vscode": {
     "languageId": "plaintext"
    }
   },
   "outputs": [],
   "source": [
    "create file format util_db.public.CSV_COMMA_LF_HEADER\n",
    "    type = 'CSV' \n",
    "    field_delimiter = ',' \n",
    "    record_delimiter = '\\n' -- the n represents a Line Feed character\n",
    "    skip_header = 1 \n",
    ";"
   ]
  },
  {
   "cell_type": "markdown",
   "metadata": {},
   "source": [
    "Additional settings are:"
   ]
  },
  {
   "cell_type": "code",
   "execution_count": null,
   "metadata": {
    "vscode": {
     "languageId": "plaintext"
    }
   },
   "outputs": [],
   "source": [
    "error_on_column_count_mismatch = FALSE -- This will continue to load data if the destination table has more columns (cant be used with skip_header)\n",
    "parse_header = TRUE; -- This will try to match column names in the source to the output\n",
    "strip_outer_array = TRUE -- Used for JSON cleaning up any outer square brackets"
   ]
  }
 ],
 "metadata": {
  "language_info": {
   "name": "python"
  }
 },
 "nbformat": 4,
 "nbformat_minor": 2
}
