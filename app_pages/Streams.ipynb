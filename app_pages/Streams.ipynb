{
 "cells": [
  {
   "cell_type": "markdown",
   "metadata": {},
   "source": [
    "## Streams\n",
    "Streams capture records of row level data changes for tables and view objects. This is otherwise known as Change Data Capture (CDC)\n",
    "\n",
    "Metadata is recorded as follows:\n",
    "\n",
    "* METADATA$ACTION indicates the DML Operation (INSERT, DELETE)\n",
    "* METADATA$ISUPDATE Updates are represented by a deletion and insertion. In this event the record is set to TRUE\n",
    "* METADATA$ROW_ID is the immurable ID for the row allowing for tracking of changes to a row over time\n",
    "\n",
    "If you copy data from your stream to a table, then data is automatically removed from the stream"
   ]
  },
  {
   "cell_type": "markdown",
   "metadata": {},
   "source": [
    "##### Stream to capture INSERT, UPDATE, DELETE"
   ]
  },
  {
   "cell_type": "code",
   "execution_count": null,
   "metadata": {
    "vscode": {
     "languageId": "plaintext"
    }
   },
   "outputs": [],
   "source": [
    "CREATE OR REPLACE STREAM DEV_POC.RJ.COMPLETE_STR ON TABLE COMPLETE APPEND_ONLY = FALSE;"
   ]
  },
  {
   "cell_type": "markdown",
   "metadata": {},
   "source": [
    "##### Stream to capture INSERT Only\n",
    "Updates which usually show as a deletion followed by an insertion will not be shown"
   ]
  },
  {
   "cell_type": "code",
   "execution_count": null,
   "metadata": {
    "vscode": {
     "languageId": "plaintext"
    }
   },
   "outputs": [],
   "source": [
    "CREATE OR REPLACE STREAM DEV_POC.RJ.COMPLETE_STR ON TABLE COMPLETE APPEND_ONLY = TRUE;"
   ]
  },
  {
   "cell_type": "markdown",
   "metadata": {},
   "source": [
    "Streams will become stale if they are not used within the retention period"
   ]
  }
 ],
 "metadata": {
  "language_info": {
   "name": "python"
  }
 },
 "nbformat": 4,
 "nbformat_minor": 2
}
